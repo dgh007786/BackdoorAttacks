{
  "nbformat": 4,
  "nbformat_minor": 0,
  "metadata": {
    "colab": {
      "provenance": [],
      "machine_shape": "hm"
    },
    "kernelspec": {
      "name": "python3",
      "display_name": "Python 3"
    },
    "language_info": {
      "name": "python"
    }
  },
  "cells": [
    {
      "cell_type": "code",
      "execution_count": 1,
      "metadata": {
        "id": "NfIFCP5bg01E"
      },
      "outputs": [],
      "source": [
        "import matplotlib.pyplot as plt\n",
        "import pandas as pd\n",
        "import numpy as np\n",
        "import seaborn as sns\n",
        "import keras\n",
        "import sys\n",
        "import h5py\n",
        "import warnings\n",
        "from tqdm import tqdm"
      ]
    },
    {
      "cell_type": "code",
      "source": [
        "from google.colab import drive\n",
        "drive.mount('/content/drive')"
      ],
      "metadata": {
        "colab": {
          "base_uri": "https://localhost:8080/"
        },
        "id": "YARB5As3g-ht",
        "outputId": "598a81ca-10e2-4278-fbdf-e46f56fb4669"
      },
      "execution_count": 2,
      "outputs": [
        {
          "output_type": "stream",
          "name": "stdout",
          "text": [
            "Mounted at /content/drive\n"
          ]
        }
      ]
    },
    {
      "cell_type": "code",
      "source": [
        "warnings.filterwarnings(\"ignore\")"
      ],
      "metadata": {
        "id": "fpSUWcEphN-E"
      },
      "execution_count": 3,
      "outputs": []
    },
    {
      "cell_type": "code",
      "source": [
        "clean_data_filename = '/content/drive/MyDrive/valid.h5'\n",
        "poisoned_data_filename = '/content/drive/MyDrive/bd_valid.h5'\n",
        "model_filename = '/content/drive/MyDrive/bd_net.h5'"
      ],
      "metadata": {
        "id": "K8oZQOb3hbdD"
      },
      "execution_count": 6,
      "outputs": []
    },
    {
      "cell_type": "code",
      "source": [
        "def data_loader(filepath):\n",
        "    data = h5py.File(filepath, 'r')\n",
        "    x_data = np.array(data['data'])\n",
        "    y_data = np.array(data['label'])\n",
        "    x_data = x_data.transpose((0,2,3,1))\n",
        "\n",
        "    return x_data, y_data\n",
        "\n",
        "def main():\n",
        "    cl_x_test, cl_y_test = data_loader(clean_data_filename)\n",
        "    bd_x_test, bd_y_test = data_loader(poisoned_data_filename)\n",
        "\n",
        "    bd_model = keras.models.load_model(model_filename)\n",
        "\n",
        "    cl_label_p = np.argmax(bd_model.predict(cl_x_test), axis=1)\n",
        "    clean_accuracy = np.mean(np.equal(cl_label_p, cl_y_test))*100\n",
        "    print('Clean Classification accuracy:', clean_accuracy)\n",
        "\n",
        "    bd_label_p = np.argmax(bd_model.predict(bd_x_test), axis=1)\n",
        "    asr = np.mean(np.equal(bd_label_p, bd_y_test))*100\n",
        "    print('Attack Success Rate:', asr)\n",
        "\n",
        "if __name__ == '__main__':\n",
        "    main()"
      ],
      "metadata": {
        "colab": {
          "base_uri": "https://localhost:8080/"
        },
        "id": "zayh_VPkhkY7",
        "outputId": "ffa1d357-2cba-410d-8896-c6369206dcf0"
      },
      "execution_count": 7,
      "outputs": [
        {
          "output_type": "stream",
          "name": "stdout",
          "text": [
            "361/361 [==============================] - 4s 10ms/step\n",
            "Clean Classification accuracy: 98.64899974019225\n",
            "361/361 [==============================] - 4s 10ms/step\n",
            "Attack Success Rate: 100.0\n"
          ]
        }
      ]
    },
    {
      "cell_type": "code",
      "source": [
        "model = keras.models.load_model(model_filename)\n",
        "print(model.summary())"
      ],
      "metadata": {
        "colab": {
          "base_uri": "https://localhost:8080/"
        },
        "id": "ivgFg35Nhmc5",
        "outputId": "5c34c103-c107-4d4a-a740-9732168728d1"
      },
      "execution_count": 8,
      "outputs": [
        {
          "output_type": "stream",
          "name": "stdout",
          "text": [
            "Model: \"model_1\"\n",
            "__________________________________________________________________________________________________\n",
            " Layer (type)                Output Shape                 Param #   Connected to                  \n",
            "==================================================================================================\n",
            " input (InputLayer)          [(None, 55, 47, 3)]          0         []                            \n",
            "                                                                                                  \n",
            " conv_1 (Conv2D)             (None, 52, 44, 20)           980       ['input[0][0]']               \n",
            "                                                                                                  \n",
            " pool_1 (MaxPooling2D)       (None, 26, 22, 20)           0         ['conv_1[0][0]']              \n",
            "                                                                                                  \n",
            " conv_2 (Conv2D)             (None, 24, 20, 40)           7240      ['pool_1[0][0]']              \n",
            "                                                                                                  \n",
            " pool_2 (MaxPooling2D)       (None, 12, 10, 40)           0         ['conv_2[0][0]']              \n",
            "                                                                                                  \n",
            " conv_3 (Conv2D)             (None, 10, 8, 60)            21660     ['pool_2[0][0]']              \n",
            "                                                                                                  \n",
            " pool_3 (MaxPooling2D)       (None, 5, 4, 60)             0         ['conv_3[0][0]']              \n",
            "                                                                                                  \n",
            " conv_4 (Conv2D)             (None, 4, 3, 80)             19280     ['pool_3[0][0]']              \n",
            "                                                                                                  \n",
            " flatten_1 (Flatten)         (None, 1200)                 0         ['pool_3[0][0]']              \n",
            "                                                                                                  \n",
            " flatten_2 (Flatten)         (None, 960)                  0         ['conv_4[0][0]']              \n",
            "                                                                                                  \n",
            " fc_1 (Dense)                (None, 160)                  192160    ['flatten_1[0][0]']           \n",
            "                                                                                                  \n",
            " fc_2 (Dense)                (None, 160)                  153760    ['flatten_2[0][0]']           \n",
            "                                                                                                  \n",
            " add_1 (Add)                 (None, 160)                  0         ['fc_1[0][0]',                \n",
            "                                                                     'fc_2[0][0]']                \n",
            "                                                                                                  \n",
            " activation_1 (Activation)   (None, 160)                  0         ['add_1[0][0]']               \n",
            "                                                                                                  \n",
            " output (Dense)              (None, 1283)                 206563    ['activation_1[0][0]']        \n",
            "                                                                                                  \n",
            "==================================================================================================\n",
            "Total params: 601643 (2.30 MB)\n",
            "Trainable params: 601643 (2.30 MB)\n",
            "Non-trainable params: 0 (0.00 Byte)\n",
            "__________________________________________________________________________________________________\n",
            "None\n"
          ]
        }
      ]
    },
    {
      "cell_type": "code",
      "source": [
        "x_data, y_data = data_loader(clean_data_filename)\n",
        "figure = plt.figure(figsize=(10,8))\n",
        "cols, rows = 3,3\n",
        "for i in range(1, cols*rows+1):\n",
        "  index = np.random.randint(x_data.shape[0], size=1)\n",
        "  img, label = (x_data[index], y_data[index])\n",
        "  figure.add_subplot(rows, cols, i)\n",
        "  plt.title(\"true label: {}\".format(label))\n",
        "  plt.axis(\"off\")\n",
        "  plt.imshow(img[0]/255)\n",
        "plt.show()"
      ],
      "metadata": {
        "colab": {
          "base_uri": "https://localhost:8080/",
          "height": 675
        },
        "id": "3WHpFmbdh3MH",
        "outputId": "de260bad-3b24-454e-8bf3-3e5ad6e36258"
      },
      "execution_count": 9,
      "outputs": [
        {
          "output_type": "display_data",
          "data": {
            "text/plain": [
              "<Figure size 1000x800 with 9 Axes>"
            ],
            "image/png": "[encoded data removed]"
          },
          "metadata": {}
        }
      ]
    },
    {
      "cell_type": "code",
      "source": [
        "x_poisoned_data, y_poisoned_data = data_loader(poisoned_data_filename)\n",
        "figure = plt.figure(figsize=(10,8))\n",
        "cols, rows = 3,3\n",
        "for i in range(1, cols*rows+1):\n",
        "  index = np.random.randint(x_poisoned_data.shape[0], size=1)\n",
        "  img, label = (x_poisoned_data[index], y_poisoned_data[index])\n",
        "  figure.add_subplot(rows, cols, i)\n",
        "  plt.title(\"true label: {}\".format(label))\n",
        "  plt.axis(\"off\")\n",
        "  plt.imshow(img[0]/255)\n",
        "plt.show()"
      ],
      "metadata": {
        "colab": {
          "base_uri": "https://localhost:8080/",
          "height": 675
        },
        "id": "524RMusgh535",
        "outputId": "892231d4-a7ec-40f1-d3d8-55968fdc19d7"
      },
      "execution_count": 10,
      "outputs": [
        {
          "output_type": "display_data",
          "data": {
            "text/plain": [
              "<Figure size 1000x800 with 9 Axes>"
            ],
            "image/png": "[encoded data removed]"
          },
          "metadata": {}
        }
      ]
    },
    {
      "cell_type": "code",
      "source": [
        "keras.backend.clear_session()"
      ],
      "metadata": {
        "id": "O9GRL89Ih8TF"
      },
      "execution_count": 11,
      "outputs": []
    },
    {
      "cell_type": "code",
      "source": [
        "# getting data\n",
        "cl_x_test, cl_y_test = data_loader(clean_data_filename)\n",
        "bd_x_test, bd_y_test = data_loader(poisoned_data_filename)"
      ],
      "metadata": {
        "id": "C_-AiW5oh-g1"
      },
      "execution_count": 12,
      "outputs": []
    },
    {
      "cell_type": "code",
      "source": [
        "clean_data_accuracy = 98.64899974019225\n",
        "cloned_model = keras.models.clone_model(model)\n",
        "cloned_model.set_weights(model.get_weights())\n",
        "pruning_indices = []\n",
        "accuracy_clean_data = []\n",
        "attack_success_rates = []\n",
        "model_saved = np.zeros(3, dtype=bool)\n",
        "\n",
        "# Obtaining activation from the final pooling layer\n",
        "final_layer_output = cloned_model.get_layer('pool_3').output\n",
        "intermediate_mod = keras.models.Model(inputs=cloned_model.input, outputs=final_layer_output)\n",
        "inter_prediction = intermediate_mod.predict(cl_x_test)\n",
        "average_vals = np.mean(inter_prediction, axis=(0, 1, 2))\n",
        "order_seq = np.argsort(average_vals)\n",
        "layer_weights = cloned_model.layers[5].get_weights()[0]\n",
        "layer_biases = cloned_model.layers[5].get_weights()[1]\n",
        "\n",
        "for index in tqdm(order_seq):\n",
        "  layer_weights[:, :, :, index] = 0\n",
        "  layer_biases[index] = 0\n",
        "  cloned_model.layers[5].set_weights([layer_weights, layer_biases])\n",
        "  predicted_labels_clean = np.argmax(cloned_model.predict(cl_x_test), axis=1)\n",
        "  accuracy_on_clean = np.mean(np.equal(predicted_labels_clean, cl_y_test)) * 100\n",
        "  if (clean_data_accuracy - accuracy_on_clean >= 2 and not model_saved[0]):\n",
        "    print(\"Accuracy decreased by at least 2%, model saved\")\n",
        "    cloned_model.save('model_X=2.h5')\n",
        "    model_saved[0] = True\n",
        "  if (clean_data_accuracy - accuracy_on_clean >= 4 and not model_saved[1]):\n",
        "    print(\"Accuracy decreased by at least 4%, model saved\")\n",
        "    cloned_model.save('model_X=4.h5')\n",
        "    model_saved[1] = True\n",
        "  if (clean_data_accuracy - accuracy_on_clean >= 10 and not model_saved[2]):\n",
        "    print(\"Accuracy decreased by at least 10%, model saved\")\n",
        "    cloned_model.save('model_X=10.h5')\n",
        "    model_saved[2] = True\n",
        "  accuracy_clean_data.append(accuracy_on_clean)\n",
        "  predicted_labels_bd = np.argmax(cloned_model.predict(bd_x_test), axis=1)\n",
        "  attack_success_rate = np.mean(np.equal(predicted_labels_bd, bd_y_test)) * 100\n",
        "  attack_success_rates.append(attack_success_rate)\n",
        "  print()\n",
        "  print(\"Current clean data accuracy: \", accuracy_on_clean)\n",
        "  print(\"Current attack success rate: \", attack_success_rate)\n",
        "  print(\"Channel pruned at index: \", index)\n",
        "  keras.backend.clear_session()"
      ],
      "metadata": {
        "colab": {
          "base_uri": "https://localhost:8080/"
        },
        "id": "77TzJoXwiABF",
        "outputId": "1b2a0936-be91-44ef-cc9a-1669e24b6d67"
      },
      "execution_count": 13,
      "outputs": [
        {
          "output_type": "stream",
          "name": "stdout",
          "text": [
            "361/361 [==============================] - 3s 9ms/step\n"
          ]
        },
        {
          "output_type": "stream",
          "name": "stderr",
          "text": [
            "\r  0%|          | 0/60 [00:00<?, ?it/s]"
          ]
        },
        {
          "output_type": "stream",
          "name": "stdout",
          "text": [
            "361/361 [==============================] - 4s 10ms/step\n",
            "361/361 [==============================] - 4s 10ms/step\n"
          ]
        },
        {
          "output_type": "stream",
          "name": "stderr",
          "text": [
            "\r  2%|▏         | 1/60 [00:09<09:11,  9.34s/it]"
          ]
        },
        {
          "output_type": "stream",
          "name": "stdout",
          "text": [
            "\n",
            "Current clean data accuracy:  98.64899974019225\n",
            "Current attack success rate:  100.0\n",
            "Channel pruned at index:  0\n",
            "361/361 [==============================] - 4s 10ms/step\n",
            "361/361 [==============================] - 4s 10ms/step\n"
          ]
        },
        {
          "output_type": "stream",
          "name": "stderr",
          "text": [
            "\r  3%|▎         | 2/60 [00:19<09:40, 10.01s/it]"
          ]
        },
        {
          "output_type": "stream",
          "name": "stdout",
          "text": [
            "\n",
            "Current clean data accuracy:  98.64899974019225\n",
            "Current attack success rate:  100.0\n",
            "Channel pruned at index:  26\n",
            "361/361 [==============================] - 4s 10ms/step\n",
            "361/361 [==============================] - 4s 10ms/step\n",
            "\n",
            "Current clean data accuracy:  98.64899974019225\n",
            "Current attack success rate:  100.0\n",
            "Channel pruned at index:  27\n"
          ]
        },
        {
          "output_type": "stream",
          "name": "stderr",
          "text": [
            "\r  5%|▌         | 3/60 [00:29<09:13,  9.71s/it]"
          ]
        },
        {
          "output_type": "stream",
          "name": "stdout",
          "text": [
            "361/361 [==============================] - 3s 10ms/step\n",
            "361/361 [==============================] - 4s 10ms/step\n"
          ]
        },
        {
          "output_type": "stream",
          "name": "stderr",
          "text": [
            "\r  7%|▋         | 4/60 [00:38<08:51,  9.49s/it]"
          ]
        },
        {
          "output_type": "stream",
          "name": "stdout",
          "text": [
            "\n",
            "Current clean data accuracy:  98.64899974019225\n",
            "Current attack success rate:  100.0\n",
            "Channel pruned at index:  30\n",
            "361/361 [==============================] - 4s 12ms/step\n",
            "361/361 [==============================] - 4s 10ms/step\n"
          ]
        },
        {
          "output_type": "stream",
          "name": "stderr",
          "text": [
            "\r  8%|▊         | 5/60 [00:48<08:51,  9.67s/it]"
          ]
        },
        {
          "output_type": "stream",
          "name": "stdout",
          "text": [
            "\n",
            "Current clean data accuracy:  98.64899974019225\n",
            "Current attack success rate:  100.0\n",
            "Channel pruned at index:  31\n",
            "361/361 [==============================] - 4s 10ms/step\n",
            "361/361 [==============================] - 4s 11ms/step\n"
          ]
        },
        {
          "output_type": "stream",
          "name": "stderr",
          "text": [
            "\r 10%|█         | 6/60 [00:57<08:37,  9.58s/it]"
          ]
        },
        {
          "output_type": "stream",
          "name": "stdout",
          "text": [
            "\n",
            "Current clean data accuracy:  98.64899974019225\n",
            "Current attack success rate:  100.0\n",
            "Channel pruned at index:  33\n",
            "361/361 [==============================] - 4s 10ms/step\n",
            "361/361 [==============================] - 4s 10ms/step\n",
            "\n"
          ]
        },
        {
          "output_type": "stream",
          "name": "stderr",
          "text": [
            "\r 12%|█▏        | 7/60 [01:08<08:46,  9.93s/it]"
          ]
        },
        {
          "output_type": "stream",
          "name": "stdout",
          "text": [
            "Current clean data accuracy:  98.64899974019225\n",
            "Current attack success rate:  100.0\n",
            "Channel pruned at index:  34\n",
            "361/361 [==============================] - 4s 10ms/step\n",
            "361/361 [==============================] - 4s 10ms/step\n"
          ]
        },
        {
          "output_type": "stream",
          "name": "stderr",
          "text": [
            "\r 13%|█▎        | 8/60 [01:17<08:26,  9.73s/it]"
          ]
        },
        {
          "output_type": "stream",
          "name": "stdout",
          "text": [
            "\n",
            "Current clean data accuracy:  98.64899974019225\n",
            "Current attack success rate:  100.0\n",
            "Channel pruned at index:  36\n",
            "361/361 [==============================] - 4s 10ms/step\n",
            "361/361 [==============================] - 4s 10ms/step\n"
          ]
        },
        {
          "output_type": "stream",
          "name": "stderr",
          "text": [
            "\r 15%|█▌        | 9/60 [01:27<08:11,  9.64s/it]"
          ]
        },
        {
          "output_type": "stream",
          "name": "stdout",
          "text": [
            "\n",
            "Current clean data accuracy:  98.64899974019225\n",
            "Current attack success rate:  100.0\n",
            "Channel pruned at index:  37\n",
            "361/361 [==============================] - 4s 10ms/step\n",
            "361/361 [==============================] - 3s 10ms/step\n"
          ]
        },
        {
          "output_type": "stream",
          "name": "stderr",
          "text": [
            "\r 17%|█▋        | 10/60 [01:36<07:54,  9.48s/it]"
          ]
        },
        {
          "output_type": "stream",
          "name": "stdout",
          "text": [
            "\n",
            "Current clean data accuracy:  98.64899974019225\n",
            "Current attack success rate:  100.0\n",
            "Channel pruned at index:  38\n",
            "361/361 [==============================] - 4s 10ms/step\n",
            "361/361 [==============================] - 4s 10ms/step\n"
          ]
        },
        {
          "output_type": "stream",
          "name": "stderr",
          "text": [
            "\r 18%|█▊        | 11/60 [01:45<07:41,  9.41s/it]"
          ]
        },
        {
          "output_type": "stream",
          "name": "stdout",
          "text": [
            "\n",
            "Current clean data accuracy:  98.64899974019225\n",
            "Current attack success rate:  100.0\n",
            "Channel pruned at index:  25\n",
            "361/361 [==============================] - 4s 10ms/step\n",
            "361/361 [==============================] - 4s 10ms/step\n"
          ]
        },
        {
          "output_type": "stream",
          "name": "stderr",
          "text": [
            "\r 20%|██        | 12/60 [01:54<07:27,  9.32s/it]"
          ]
        },
        {
          "output_type": "stream",
          "name": "stdout",
          "text": [
            "\n",
            "Current clean data accuracy:  98.64899974019225\n",
            "Current attack success rate:  100.0\n",
            "Channel pruned at index:  39\n",
            "361/361 [==============================] - 4s 10ms/step\n",
            "361/361 [==============================] - 4s 10ms/step\n"
          ]
        },
        {
          "output_type": "stream",
          "name": "stderr",
          "text": [
            "\r 22%|██▏       | 13/60 [02:03<07:17,  9.30s/it]"
          ]
        },
        {
          "output_type": "stream",
          "name": "stdout",
          "text": [
            "\n",
            "Current clean data accuracy:  98.64899974019225\n",
            "Current attack success rate:  100.0\n",
            "Channel pruned at index:  41\n",
            "361/361 [==============================] - 4s 10ms/step\n",
            "361/361 [==============================] - 4s 10ms/step\n",
            "\n",
            "Current clean data accuracy:  98.64899974019225\n",
            "Current attack success rate:  100.0\n",
            "Channel pruned at index:  44\n"
          ]
        },
        {
          "output_type": "stream",
          "name": "stderr",
          "text": [
            "\r 23%|██▎       | 14/60 [02:13<07:06,  9.27s/it]"
          ]
        },
        {
          "output_type": "stream",
          "name": "stdout",
          "text": [
            "361/361 [==============================] - 4s 10ms/step\n",
            "361/361 [==============================] - 4s 10ms/step\n"
          ]
        },
        {
          "output_type": "stream",
          "name": "stderr",
          "text": [
            "\r 25%|██▌       | 15/60 [02:23<07:13,  9.64s/it]"
          ]
        },
        {
          "output_type": "stream",
          "name": "stdout",
          "text": [
            "\n",
            "Current clean data accuracy:  98.64899974019225\n",
            "Current attack success rate:  100.0\n",
            "Channel pruned at index:  45\n",
            "361/361 [==============================] - 4s 10ms/step\n",
            "361/361 [==============================] - 3s 10ms/step\n"
          ]
        },
        {
          "output_type": "stream",
          "name": "stderr",
          "text": [
            "\r 27%|██▋       | 16/60 [02:32<06:58,  9.52s/it]"
          ]
        },
        {
          "output_type": "stream",
          "name": "stdout",
          "text": [
            "\n",
            "Current clean data accuracy:  98.64899974019225\n",
            "Current attack success rate:  100.0\n",
            "Channel pruned at index:  47\n",
            "361/361 [==============================] - 4s 10ms/step\n",
            "361/361 [==============================] - 4s 10ms/step\n"
          ]
        },
        {
          "output_type": "stream",
          "name": "stderr",
          "text": [
            "\r 28%|██▊       | 17/60 [02:42<06:45,  9.43s/it]"
          ]
        },
        {
          "output_type": "stream",
          "name": "stdout",
          "text": [
            "\n",
            "Current clean data accuracy:  98.64899974019225\n",
            "Current attack success rate:  100.0\n",
            "Channel pruned at index:  48\n",
            "361/361 [==============================] - 4s 10ms/step\n",
            "361/361 [==============================] - 4s 10ms/step\n"
          ]
        },
        {
          "output_type": "stream",
          "name": "stderr",
          "text": [
            "\r 30%|███       | 18/60 [02:51<06:31,  9.31s/it]"
          ]
        },
        {
          "output_type": "stream",
          "name": "stdout",
          "text": [
            "\n",
            "Current clean data accuracy:  98.64899974019225\n",
            "Current attack success rate:  100.0\n",
            "Channel pruned at index:  49\n",
            "361/361 [==============================] - 4s 10ms/step\n",
            "361/361 [==============================] - 4s 10ms/step\n"
          ]
        },
        {
          "output_type": "stream",
          "name": "stderr",
          "text": [
            "\r 32%|███▏      | 19/60 [03:01<06:37,  9.70s/it]"
          ]
        },
        {
          "output_type": "stream",
          "name": "stdout",
          "text": [
            "\n",
            "Current clean data accuracy:  98.64899974019225\n",
            "Current attack success rate:  100.0\n",
            "Channel pruned at index:  50\n",
            "361/361 [==============================] - 4s 10ms/step\n",
            "361/361 [==============================] - 4s 10ms/step\n"
          ]
        },
        {
          "output_type": "stream",
          "name": "stderr",
          "text": [
            "\r 33%|███▎      | 20/60 [03:12<06:40, 10.01s/it]"
          ]
        },
        {
          "output_type": "stream",
          "name": "stdout",
          "text": [
            "\n",
            "Current clean data accuracy:  98.64899974019225\n",
            "Current attack success rate:  100.0\n",
            "Channel pruned at index:  53\n",
            "361/361 [==============================] - 4s 10ms/step\n",
            "361/361 [==============================] - 4s 10ms/step\n"
          ]
        },
        {
          "output_type": "stream",
          "name": "stderr",
          "text": [
            "\r 35%|███▌      | 21/60 [03:21<06:18,  9.71s/it]"
          ]
        },
        {
          "output_type": "stream",
          "name": "stdout",
          "text": [
            "\n",
            "Current clean data accuracy:  98.64899974019225\n",
            "Current attack success rate:  100.0\n",
            "Channel pruned at index:  55\n",
            "361/361 [==============================] - 4s 10ms/step\n",
            "361/361 [==============================] - 3s 10ms/step\n"
          ]
        },
        {
          "output_type": "stream",
          "name": "stderr",
          "text": [
            "\r 37%|███▋      | 22/60 [03:31<06:18,  9.96s/it]"
          ]
        },
        {
          "output_type": "stream",
          "name": "stdout",
          "text": [
            "\n",
            "Current clean data accuracy:  98.64899974019225\n",
            "Current attack success rate:  100.0\n",
            "Channel pruned at index:  40\n",
            "361/361 [==============================] - 3s 10ms/step\n",
            "361/361 [==============================] - 4s 10ms/step\n"
          ]
        },
        {
          "output_type": "stream",
          "name": "stderr",
          "text": [
            "\r 38%|███▊      | 23/60 [03:41<06:00,  9.74s/it]"
          ]
        },
        {
          "output_type": "stream",
          "name": "stdout",
          "text": [
            "\n",
            "Current clean data accuracy:  98.64899974019225\n",
            "Current attack success rate:  100.0\n",
            "Channel pruned at index:  24\n",
            "361/361 [==============================] - 3s 9ms/step\n",
            "361/361 [==============================] - 3s 10ms/step\n"
          ]
        },
        {
          "output_type": "stream",
          "name": "stderr",
          "text": [
            "\r 40%|████      | 24/60 [03:51<05:57,  9.93s/it]"
          ]
        },
        {
          "output_type": "stream",
          "name": "stdout",
          "text": [
            "\n",
            "Current clean data accuracy:  98.64899974019225\n",
            "Current attack success rate:  100.0\n",
            "Channel pruned at index:  59\n",
            "361/361 [==============================] - 4s 10ms/step\n",
            "361/361 [==============================] - 4s 10ms/step\n"
          ]
        },
        {
          "output_type": "stream",
          "name": "stderr",
          "text": [
            "\r 42%|████▏     | 25/60 [04:00<05:41,  9.76s/it]"
          ]
        },
        {
          "output_type": "stream",
          "name": "stdout",
          "text": [
            "\n",
            "Current clean data accuracy:  98.64899974019225\n",
            "Current attack success rate:  100.0\n",
            "Channel pruned at index:  9\n",
            "361/361 [==============================] - 4s 10ms/step\n",
            "361/361 [==============================] - 4s 10ms/step\n"
          ]
        },
        {
          "output_type": "stream",
          "name": "stderr",
          "text": [
            "\r 43%|████▎     | 26/60 [04:10<05:27,  9.63s/it]"
          ]
        },
        {
          "output_type": "stream",
          "name": "stdout",
          "text": [
            "\n",
            "Current clean data accuracy:  98.64899974019225\n",
            "Current attack success rate:  100.0\n",
            "Channel pruned at index:  2\n",
            "361/361 [==============================] - 3s 9ms/step\n",
            "361/361 [==============================] - 3s 10ms/step\n"
          ]
        },
        {
          "output_type": "stream",
          "name": "stderr",
          "text": [
            "\r 45%|████▌     | 27/60 [04:19<05:10,  9.41s/it]"
          ]
        },
        {
          "output_type": "stream",
          "name": "stdout",
          "text": [
            "\n",
            "Current clean data accuracy:  98.64899974019225\n",
            "Current attack success rate:  100.0\n",
            "Channel pruned at index:  12\n",
            "361/361 [==============================] - 4s 10ms/step\n",
            "361/361 [==============================] - 4s 10ms/step\n"
          ]
        },
        {
          "output_type": "stream",
          "name": "stderr",
          "text": [
            "\r 47%|████▋     | 28/60 [04:28<05:00,  9.39s/it]"
          ]
        },
        {
          "output_type": "stream",
          "name": "stdout",
          "text": [
            "\n",
            "Current clean data accuracy:  98.64899974019225\n",
            "Current attack success rate:  100.0\n",
            "Channel pruned at index:  13\n",
            "361/361 [==============================] - 4s 10ms/step\n",
            "361/361 [==============================] - 4s 10ms/step\n"
          ]
        },
        {
          "output_type": "stream",
          "name": "stderr",
          "text": [
            "\r 48%|████▊     | 29/60 [04:37<04:48,  9.31s/it]"
          ]
        },
        {
          "output_type": "stream",
          "name": "stdout",
          "text": [
            "\n",
            "Current clean data accuracy:  98.64899974019225\n",
            "Current attack success rate:  100.0\n",
            "Channel pruned at index:  17\n",
            "361/361 [==============================] - 4s 10ms/step\n",
            "361/361 [==============================] - 4s 10ms/step\n"
          ]
        },
        {
          "output_type": "stream",
          "name": "stderr",
          "text": [
            "\r 50%|█████     | 30/60 [04:46<04:37,  9.26s/it]"
          ]
        },
        {
          "output_type": "stream",
          "name": "stdout",
          "text": [
            "\n",
            "Current clean data accuracy:  98.64899974019225\n",
            "Current attack success rate:  100.0\n",
            "Channel pruned at index:  14\n",
            "361/361 [==============================] - 3s 10ms/step\n",
            "361/361 [==============================] - 4s 10ms/step\n"
          ]
        },
        {
          "output_type": "stream",
          "name": "stderr",
          "text": [
            "\r 52%|█████▏    | 31/60 [04:56<04:29,  9.29s/it]"
          ]
        },
        {
          "output_type": "stream",
          "name": "stdout",
          "text": [
            "\n",
            "Current clean data accuracy:  98.64899974019225\n",
            "Current attack success rate:  100.0\n",
            "Channel pruned at index:  15\n",
            "361/361 [==============================] - 3s 10ms/step\n",
            "361/361 [==============================] - 3s 10ms/step\n"
          ]
        },
        {
          "output_type": "stream",
          "name": "stderr",
          "text": [
            "\r 53%|█████▎    | 32/60 [05:05<04:17,  9.19s/it]"
          ]
        },
        {
          "output_type": "stream",
          "name": "stdout",
          "text": [
            "\n",
            "Current clean data accuracy:  98.64899974019225\n",
            "Current attack success rate:  100.0\n",
            "Channel pruned at index:  23\n",
            "361/361 [==============================] - 4s 10ms/step\n",
            "361/361 [==============================] - 3s 10ms/step\n"
          ]
        },
        {
          "output_type": "stream",
          "name": "stderr",
          "text": [
            "\r 55%|█████▌    | 33/60 [05:14<04:07,  9.18s/it]"
          ]
        },
        {
          "output_type": "stream",
          "name": "stdout",
          "text": [
            "\n",
            "Current clean data accuracy:  98.64899974019225\n",
            "Current attack success rate:  100.0\n",
            "Channel pruned at index:  6\n",
            "361/361 [==============================] - 3s 10ms/step\n",
            "361/361 [==============================] - 4s 10ms/step\n",
            "\n",
            "Current clean data accuracy:  98.64033948211657\n",
            "Current attack success rate:  100.0\n",
            "Channel pruned at index:  51\n"
          ]
        },
        {
          "output_type": "stream",
          "name": "stderr",
          "text": [
            "\r 57%|█████▋    | 34/60 [05:23<03:59,  9.23s/it]"
          ]
        },
        {
          "output_type": "stream",
          "name": "stdout",
          "text": [
            "361/361 [==============================] - 4s 10ms/step\n",
            "361/361 [==============================] - 4s 10ms/step\n",
            "\n",
            "Current clean data accuracy:  98.64033948211657\n",
            "Current attack success rate:  100.0\n",
            "Channel pruned at index:  32\n"
          ]
        },
        {
          "output_type": "stream",
          "name": "stderr",
          "text": [
            "\r 58%|█████▊    | 35/60 [05:32<03:50,  9.23s/it]"
          ]
        },
        {
          "output_type": "stream",
          "name": "stdout",
          "text": [
            "361/361 [==============================] - 4s 10ms/step\n",
            "361/361 [==============================] - 4s 10ms/step\n"
          ]
        },
        {
          "output_type": "stream",
          "name": "stderr",
          "text": [
            "\r 60%|██████    | 36/60 [05:41<03:40,  9.20s/it]"
          ]
        },
        {
          "output_type": "stream",
          "name": "stdout",
          "text": [
            "\n",
            "Current clean data accuracy:  98.63167922404088\n",
            "Current attack success rate:  100.0\n",
            "Channel pruned at index:  22\n",
            "361/361 [==============================] - 4s 10ms/step\n",
            "361/361 [==============================] - 3s 10ms/step\n"
          ]
        },
        {
          "output_type": "stream",
          "name": "stderr",
          "text": [
            "\r 62%|██████▏   | 37/60 [05:52<03:41,  9.62s/it]"
          ]
        },
        {
          "output_type": "stream",
          "name": "stdout",
          "text": [
            "\n",
            "Current clean data accuracy:  98.65765999826795\n",
            "Current attack success rate:  100.0\n",
            "Channel pruned at index:  21\n",
            "361/361 [==============================] - 4s 10ms/step\n",
            "361/361 [==============================] - 3s 10ms/step\n"
          ]
        },
        {
          "output_type": "stream",
          "name": "stderr",
          "text": [
            "\r 63%|██████▎   | 38/60 [06:01<03:27,  9.45s/it]"
          ]
        },
        {
          "output_type": "stream",
          "name": "stdout",
          "text": [
            "\n",
            "Current clean data accuracy:  98.64899974019225\n",
            "Current attack success rate:  100.0\n",
            "Channel pruned at index:  20\n",
            "361/361 [==============================] - 4s 10ms/step\n",
            "361/361 [==============================] - 4s 10ms/step\n"
          ]
        },
        {
          "output_type": "stream",
          "name": "stderr",
          "text": [
            "\r 65%|██████▌   | 39/60 [06:10<03:16,  9.36s/it]"
          ]
        },
        {
          "output_type": "stream",
          "name": "stdout",
          "text": [
            "\n",
            "Current clean data accuracy:  98.6056984498138\n",
            "Current attack success rate:  100.0\n",
            "Channel pruned at index:  19\n",
            "361/361 [==============================] - 3s 10ms/step\n",
            "361/361 [==============================] - 4s 10ms/step\n"
          ]
        },
        {
          "output_type": "stream",
          "name": "stderr",
          "text": [
            "\r 67%|██████▋   | 40/60 [06:19<03:05,  9.28s/it]"
          ]
        },
        {
          "output_type": "stream",
          "name": "stdout",
          "text": [
            "\n",
            "Current clean data accuracy:  98.57105741751104\n",
            "Current attack success rate:  100.0\n",
            "Channel pruned at index:  43\n",
            "361/361 [==============================] - 4s 10ms/step\n",
            "361/361 [==============================] - 3s 9ms/step\n"
          ]
        },
        {
          "output_type": "stream",
          "name": "stderr",
          "text": [
            "\r 68%|██████▊   | 41/60 [06:30<03:02,  9.61s/it]"
          ]
        },
        {
          "output_type": "stream",
          "name": "stdout",
          "text": [
            "\n",
            "Current clean data accuracy:  98.53641638520828\n",
            "Current attack success rate:  100.0\n",
            "Channel pruned at index:  58\n",
            "361/361 [==============================] - 4s 10ms/step\n",
            "361/361 [==============================] - 4s 10ms/step\n"
          ]
        },
        {
          "output_type": "stream",
          "name": "stderr",
          "text": [
            "\r 70%|███████   | 42/60 [06:39<02:50,  9.47s/it]"
          ]
        },
        {
          "output_type": "stream",
          "name": "stdout",
          "text": [
            "\n",
            "Current clean data accuracy:  98.19000606218066\n",
            "Current attack success rate:  100.0\n",
            "Channel pruned at index:  3\n",
            "361/361 [==============================] - 3s 10ms/step\n",
            "361/361 [==============================] - 3s 10ms/step\n"
          ]
        },
        {
          "output_type": "stream",
          "name": "stderr",
          "text": [
            "\r 72%|███████▏  | 43/60 [06:49<02:46,  9.80s/it]"
          ]
        },
        {
          "output_type": "stream",
          "name": "stdout",
          "text": [
            "\n",
            "Current clean data accuracy:  97.65307006148784\n",
            "Current attack success rate:  100.0\n",
            "Channel pruned at index:  42\n",
            "361/361 [==============================] - 4s 10ms/step\n",
            "361/361 [==============================] - 4s 10ms/step\n"
          ]
        },
        {
          "output_type": "stream",
          "name": "stderr",
          "text": [
            "\r 73%|███████▎  | 44/60 [07:00<02:40, 10.06s/it]"
          ]
        },
        {
          "output_type": "stream",
          "name": "stdout",
          "text": [
            "\n",
            "Current clean data accuracy:  97.50584567420108\n",
            "Current attack success rate:  100.0\n",
            "Channel pruned at index:  1\n",
            "361/361 [==============================] - 4s 10ms/step\n"
          ]
        },
        {
          "output_type": "stream",
          "name": "stderr",
          "text": [
            "WARNING:tensorflow:Compiled the loaded model, but the compiled metrics have yet to be built. `model.compile_metrics` will be empty until you train or evaluate the model.\n"
          ]
        },
        {
          "output_type": "stream",
          "name": "stdout",
          "text": [
            "Accuracy decreased by at least 2%, model saved\n",
            "361/361 [==============================] - 4s 10ms/step\n"
          ]
        },
        {
          "output_type": "stream",
          "name": "stderr",
          "text": [
            "\r 75%|███████▌  | 45/60 [07:09<02:27,  9.82s/it]"
          ]
        },
        {
          "output_type": "stream",
          "name": "stdout",
          "text": [
            "\n",
            "Current clean data accuracy:  95.75647354291158\n",
            "Current attack success rate:  100.0\n",
            "Channel pruned at index:  29\n",
            "361/361 [==============================] - 3s 10ms/step\n",
            "361/361 [==============================] - 4s 10ms/step\n"
          ]
        },
        {
          "output_type": "stream",
          "name": "stderr",
          "text": [
            "\r 77%|███████▋  | 46/60 [07:18<02:14,  9.61s/it]"
          ]
        },
        {
          "output_type": "stream",
          "name": "stdout",
          "text": [
            "\n",
            "Current clean data accuracy:  95.20221702606739\n",
            "Current attack success rate:  99.9913397419243\n",
            "Channel pruned at index:  16\n",
            "361/361 [==============================] - 4s 10ms/step\n",
            "361/361 [==============================] - 3s 10ms/step\n"
          ]
        },
        {
          "output_type": "stream",
          "name": "stderr",
          "text": [
            "\r 78%|███████▊  | 47/60 [07:28<02:03,  9.48s/it]"
          ]
        },
        {
          "output_type": "stream",
          "name": "stdout",
          "text": [
            "\n",
            "Current clean data accuracy:  94.7172425738287\n",
            "Current attack success rate:  99.9913397419243\n",
            "Channel pruned at index:  56\n",
            "361/361 [==============================] - 3s 9ms/step\n"
          ]
        },
        {
          "output_type": "stream",
          "name": "stderr",
          "text": [
            "WARNING:tensorflow:Compiled the loaded model, but the compiled metrics have yet to be built. `model.compile_metrics` will be empty until you train or evaluate the model.\n"
          ]
        },
        {
          "output_type": "stream",
          "name": "stdout",
          "text": [
            "Accuracy decreased by at least 4%, model saved\n",
            "361/361 [==============================] - 4s 10ms/step\n"
          ]
        },
        {
          "output_type": "stream",
          "name": "stderr",
          "text": [
            "\r 80%|████████  | 48/60 [07:37<01:52,  9.40s/it]"
          ]
        },
        {
          "output_type": "stream",
          "name": "stdout",
          "text": [
            "\n",
            "Current clean data accuracy:  92.09318437689443\n",
            "Current attack success rate:  99.9913397419243\n",
            "Channel pruned at index:  46\n",
            "361/361 [==============================] - 3s 10ms/step\n",
            "361/361 [==============================] - 3s 10ms/step\n"
          ]
        },
        {
          "output_type": "stream",
          "name": "stderr",
          "text": [
            "\r 82%|████████▏ | 49/60 [07:46<01:42,  9.31s/it]"
          ]
        },
        {
          "output_type": "stream",
          "name": "stdout",
          "text": [
            "\n",
            "Current clean data accuracy:  91.49562656967177\n",
            "Current attack success rate:  99.9913397419243\n",
            "Channel pruned at index:  5\n",
            "361/361 [==============================] - 4s 10ms/step\n",
            "361/361 [==============================] - 4s 10ms/step\n"
          ]
        },
        {
          "output_type": "stream",
          "name": "stderr",
          "text": [
            "\r 83%|████████▎ | 50/60 [07:55<01:33,  9.31s/it]"
          ]
        },
        {
          "output_type": "stream",
          "name": "stdout",
          "text": [
            "\n",
            "Current clean data accuracy:  91.01931237550879\n",
            "Current attack success rate:  99.98267948384861\n",
            "Channel pruned at index:  8\n",
            "361/361 [==============================] - 3s 10ms/step\n",
            "361/361 [==============================] - 4s 10ms/step\n"
          ]
        },
        {
          "output_type": "stream",
          "name": "stderr",
          "text": [
            "\r 85%|████████▌ | 51/60 [08:06<01:27,  9.74s/it]"
          ]
        },
        {
          "output_type": "stream",
          "name": "stdout",
          "text": [
            "\n",
            "Current clean data accuracy:  89.17467740538669\n",
            "Current attack success rate:  80.73958603966398\n",
            "Channel pruned at index:  11\n",
            "361/361 [==============================] - 4s 10ms/step\n"
          ]
        },
        {
          "output_type": "stream",
          "name": "stderr",
          "text": [
            "WARNING:tensorflow:Compiled the loaded model, but the compiled metrics have yet to be built. `model.compile_metrics` will be empty until you train or evaluate the model.\n"
          ]
        },
        {
          "output_type": "stream",
          "name": "stdout",
          "text": [
            "Accuracy decreased by at least 10%, model saved\n",
            "361/361 [==============================] - 4s 10ms/step\n"
          ]
        },
        {
          "output_type": "stream",
          "name": "stderr",
          "text": [
            "\r 87%|████████▋ | 52/60 [08:15<01:16,  9.58s/it]"
          ]
        },
        {
          "output_type": "stream",
          "name": "stdout",
          "text": [
            "\n",
            "Current clean data accuracy:  84.43751623798389\n",
            "Current attack success rate:  77.015675067117\n",
            "Channel pruned at index:  54\n",
            "361/361 [==============================] - 4s 10ms/step\n",
            "361/361 [==============================] - 4s 10ms/step\n"
          ]
        },
        {
          "output_type": "stream",
          "name": "stderr",
          "text": [
            "\r 88%|████████▊ | 53/60 [08:26<01:09,  9.91s/it]"
          ]
        },
        {
          "output_type": "stream",
          "name": "stdout",
          "text": [
            "\n",
            "Current clean data accuracy:  76.48739932449988\n",
            "Current attack success rate:  35.71490430414826\n",
            "Channel pruned at index:  10\n",
            "361/361 [==============================] - 4s 10ms/step\n",
            "361/361 [==============================] - 4s 10ms/step\n"
          ]
        },
        {
          "output_type": "stream",
          "name": "stderr",
          "text": [
            "\r 90%|█████████ | 54/60 [08:35<00:58,  9.67s/it]"
          ]
        },
        {
          "output_type": "stream",
          "name": "stdout",
          "text": [
            "\n",
            "Current clean data accuracy:  54.8627349095003\n",
            "Current attack success rate:  6.954187234779596\n",
            "Channel pruned at index:  28\n",
            "361/361 [==============================] - 4s 10ms/step\n",
            "361/361 [==============================] - 3s 10ms/step\n"
          ]
        },
        {
          "output_type": "stream",
          "name": "stderr",
          "text": [
            "\r 92%|█████████▏| 55/60 [08:46<00:49,  9.96s/it]"
          ]
        },
        {
          "output_type": "stream",
          "name": "stdout",
          "text": [
            "\n",
            "Current clean data accuracy:  27.08928726076037\n",
            "Current attack success rate:  0.4243526457088421\n",
            "Channel pruned at index:  35\n",
            "361/361 [==============================] - 4s 10ms/step\n",
            "361/361 [==============================] - 4s 10ms/step\n"
          ]
        },
        {
          "output_type": "stream",
          "name": "stderr",
          "text": [
            "\r 93%|█████████▎| 56/60 [08:56<00:40, 10.11s/it]"
          ]
        },
        {
          "output_type": "stream",
          "name": "stdout",
          "text": [
            "\n",
            "Current clean data accuracy:  13.87373343725643\n",
            "Current attack success rate:  0.0\n",
            "Channel pruned at index:  18\n",
            "361/361 [==============================] - 3s 10ms/step\n",
            "361/361 [==============================] - 4s 10ms/step\n"
          ]
        },
        {
          "output_type": "stream",
          "name": "stderr",
          "text": [
            "\r 95%|█████████▌| 57/60 [09:05<00:29,  9.83s/it]"
          ]
        },
        {
          "output_type": "stream",
          "name": "stdout",
          "text": [
            "\n",
            "Current clean data accuracy:  7.101411622066338\n",
            "Current attack success rate:  0.0\n",
            "Channel pruned at index:  4\n",
            "361/361 [==============================] - 4s 10ms/step\n",
            "361/361 [==============================] - 4s 10ms/step\n"
          ]
        },
        {
          "output_type": "stream",
          "name": "stderr",
          "text": [
            "\r 97%|█████████▋| 58/60 [09:14<00:19,  9.64s/it]"
          ]
        },
        {
          "output_type": "stream",
          "name": "stdout",
          "text": [
            "\n",
            "Current clean data accuracy:  1.5501861955486274\n",
            "Current attack success rate:  0.0\n",
            "Channel pruned at index:  7\n",
            "361/361 [==============================] - 4s 10ms/step\n",
            "361/361 [==============================] - 4s 10ms/step\n"
          ]
        },
        {
          "output_type": "stream",
          "name": "stderr",
          "text": [
            "\r 98%|█████████▊| 59/60 [09:26<00:10, 10.32s/it]"
          ]
        },
        {
          "output_type": "stream",
          "name": "stdout",
          "text": [
            "\n",
            "Current clean data accuracy:  0.7188014202823244\n",
            "Current attack success rate:  0.0\n",
            "Channel pruned at index:  52\n",
            "361/361 [==============================] - 3s 10ms/step\n",
            "361/361 [==============================] - 4s 10ms/step\n"
          ]
        },
        {
          "output_type": "stream",
          "name": "stderr",
          "text": [
            "100%|██████████| 60/60 [09:38<00:00,  9.65s/it]"
          ]
        },
        {
          "output_type": "stream",
          "name": "stdout",
          "text": [
            "\n",
            "Current clean data accuracy:  0.0779423226812159\n",
            "Current attack success rate:  0.0\n",
            "Channel pruned at index:  57\n"
          ]
        },
        {
          "output_type": "stream",
          "name": "stderr",
          "text": [
            "\n"
          ]
        }
      ]
    },
    {
      "cell_type": "code",
      "source": [
        "clean_acc=accuracy_clean_data\n",
        "asrate=attack_success_rates\n",
        "print(\"clean_accuracy: \", clean_acc)\n",
        "print(\"attack success rate: \", asrate)"
      ],
      "metadata": {
        "colab": {
          "base_uri": "https://localhost:8080/"
        },
        "id": "t5BnLCFyiDTd",
        "outputId": "e7d33807-b22c-429a-fd98-ed2c14834969"
      },
      "execution_count": 18,
      "outputs": [
        {
          "output_type": "stream",
          "name": "stdout",
          "text": [
            "clean_accuracy:  [98.64899974019225, 98.64899974019225, 98.64899974019225, 98.64899974019225, 98.64899974019225, 98.64899974019225, 98.64899974019225, 98.64899974019225, 98.64899974019225, 98.64899974019225, 98.64899974019225, 98.64899974019225, 98.64899974019225, 98.64899974019225, 98.64899974019225, 98.64899974019225, 98.64899974019225, 98.64899974019225, 98.64899974019225, 98.64899974019225, 98.64899974019225, 98.64899974019225, 98.64899974019225, 98.64899974019225, 98.64899974019225, 98.64899974019225, 98.64899974019225, 98.64899974019225, 98.64899974019225, 98.64899974019225, 98.64899974019225, 98.64899974019225, 98.64899974019225, 98.64033948211657, 98.64033948211657, 98.63167922404088, 98.65765999826795, 98.64899974019225, 98.6056984498138, 98.57105741751104, 98.53641638520828, 98.19000606218066, 97.65307006148784, 97.50584567420108, 95.75647354291158, 95.20221702606739, 94.7172425738287, 92.09318437689443, 91.49562656967177, 91.01931237550879, 89.17467740538669, 84.43751623798389, 76.48739932449988, 54.8627349095003, 27.08928726076037, 13.87373343725643, 7.101411622066338, 1.5501861955486274, 0.7188014202823244, 0.0779423226812159]\n",
            "attack success rate:  [100.0, 100.0, 100.0, 100.0, 100.0, 100.0, 100.0, 100.0, 100.0, 100.0, 100.0, 100.0, 100.0, 100.0, 100.0, 100.0, 100.0, 100.0, 100.0, 100.0, 100.0, 100.0, 100.0, 100.0, 100.0, 100.0, 100.0, 100.0, 100.0, 100.0, 100.0, 100.0, 100.0, 100.0, 100.0, 100.0, 100.0, 100.0, 100.0, 100.0, 100.0, 100.0, 100.0, 100.0, 100.0, 99.9913397419243, 99.9913397419243, 99.9913397419243, 99.9913397419243, 99.98267948384861, 80.73958603966398, 77.015675067117, 35.71490430414826, 6.954187234779596, 0.4243526457088421, 0.0, 0.0, 0.0, 0.0, 0.0]\n"
          ]
        }
      ]
    },
    {
      "cell_type": "code",
      "source": [
        "x_axis = np.arange(1,61)/60\n",
        "plt.plot(x_axis,clean_acc)\n",
        "plt.plot(x_axis,asrate)\n",
        "plt.legend(['clean_accuracy','attack success rate'])\n",
        "plt.xlabel(\"fraction of pruned channels\")\n",
        "plt.ylabel(\"rate\")\n",
        "plt.title(\"accuracy and attack success rate for validation dataset\")"
      ],
      "metadata": {
        "colab": {
          "base_uri": "https://localhost:8080/",
          "height": 490
        },
        "id": "Bu0myCEKkeMB",
        "outputId": "a26b108b-4346-4670-c488-2655fa2241ec"
      },
      "execution_count": 19,
      "outputs": [
        {
          "output_type": "execute_result",
          "data": {
            "text/plain": [
              "Text(0.5, 1.0, 'accuracy and attack success rate for validation dataset')"
            ]
          },
          "metadata": {},
          "execution_count": 19
        },
        {
          "output_type": "display_data",
          "data": {
            "text/plain": [
              "<Figure size 640x480 with 1 Axes>"
            ],
            "image/png": "[encoded data removed]"
          },
          "metadata": {}
        }
      ]
    },
    {
      "cell_type": "code",
      "source": [
        "index = np.where(np.array(clean_acc) <= (clean_data_accuracy-30))[0]\n",
        "print(\"The attack success rate when the accuracy drops at least 30%: \", asrate[index[0]])"
      ],
      "metadata": {
        "colab": {
          "base_uri": "https://localhost:8080/"
        },
        "id": "G9aURZuylHnq",
        "outputId": "23611f36-039c-4e0a-9136-785c1a487211"
      },
      "execution_count": 20,
      "outputs": [
        {
          "output_type": "stream",
          "name": "stdout",
          "text": [
            "The attack success rate when the accuracy drops at least 30%:  6.954187234779596\n"
          ]
        }
      ]
    },
    {
      "cell_type": "code",
      "source": [
        "class G(keras.Model):\n",
        "  def __init__(self, B, B_prime):\n",
        "      super(G, self).__init__()\n",
        "      self.B = B\n",
        "      self.B_prime = B_prime\n",
        "\n",
        "  def predict(self,data):\n",
        "      y = np.argmax(self.B(data), axis=1)\n",
        "      y_prime = np.argmax(self.B_prime(data), axis=1)\n",
        "      pred = np.zeros(data.shape[0])\n",
        "      for i in range(data.shape[0]):\n",
        "        if y[i]==y_prime[i]:\n",
        "          pred[i] = y[i]\n",
        "        else:\n",
        "          pred[i] = 1283\n",
        "      return pred"
      ],
      "metadata": {
        "id": "uLcM5qKjpuAB"
      },
      "execution_count": 21,
      "outputs": []
    },
    {
      "cell_type": "code",
      "source": [
        "test_data_filename = '/content/drive/MyDrive/test.h5'\n",
        "poisoned_test_data_filename = '/content/drive/MyDrive/bd_test.h5'\n",
        "test_model_X_2_filename = '/content/model_X=2.h5'\n",
        "test_model_X_4_filename = '/content/model_X=4.h5'\n",
        "test_model_X_10_filename = '/content/model_X=10.h5'"
      ],
      "metadata": {
        "id": "yn-O7yvOpv1F"
      },
      "execution_count": 25,
      "outputs": []
    },
    {
      "cell_type": "code",
      "source": [
        "test_model_X_2 = keras.models.load_model(test_model_X_2_filename)\n",
        "test_model_X_4 = keras.models.load_model(test_model_X_4_filename)\n",
        "test_model_X_10 = keras.models.load_model(test_model_X_10_filename)"
      ],
      "metadata": {
        "colab": {
          "base_uri": "https://localhost:8080/"
        },
        "id": "ktNomjl_pxde",
        "outputId": "47dfeee7-d9ea-4063-ab3a-d637d0766e8c"
      },
      "execution_count": 26,
      "outputs": [
        {
          "output_type": "stream",
          "name": "stderr",
          "text": [
            "WARNING:tensorflow:No training configuration found in the save file, so the model was *not* compiled. Compile it manually.\n",
            "WARNING:tensorflow:No training configuration found in the save file, so the model was *not* compiled. Compile it manually.\n",
            "WARNING:tensorflow:No training configuration found in the save file, so the model was *not* compiled. Compile it manually.\n"
          ]
        }
      ]
    },
    {
      "cell_type": "code",
      "source": [
        "x_test_data, y_test_data = data_loader(test_data_filename)\n",
        "x_test_poisoned_data, y_test_poisnoed_data = data_loader(poisoned_test_data_filename)"
      ],
      "metadata": {
        "id": "nKr3bw3Zpysk"
      },
      "execution_count": 27,
      "outputs": []
    },
    {
      "cell_type": "code",
      "source": [
        "print(\"x_test_data shape: \",x_test_data.shape)\n",
        "print(\"x_test_poisoned data shape: \",x_test_poisoned_data.shape)"
      ],
      "metadata": {
        "colab": {
          "base_uri": "https://localhost:8080/"
        },
        "id": "WGq3-nKCp0kt",
        "outputId": "aa1b2877-1937-419f-fd0f-e5be2c946d14"
      },
      "execution_count": 28,
      "outputs": [
        {
          "output_type": "stream",
          "name": "stdout",
          "text": [
            "x_test_data shape:  (12830, 55, 47, 3)\n",
            "x_test_poisoned data shape:  (12830, 55, 47, 3)\n"
          ]
        }
      ]
    },
    {
      "cell_type": "code",
      "source": [
        "G_model_X_2 = G(model, test_model_X_2)\n",
        "G_model_X_4 = G(model, test_model_X_4)\n",
        "G_model_X_10 = G(model, test_model_X_10)"
      ],
      "metadata": {
        "id": "QrQmZx_xp8ZS"
      },
      "execution_count": 29,
      "outputs": []
    },
    {
      "cell_type": "code",
      "source": [
        "# Evaluating accuracy for model with 2% drop\n",
        "predicted_labels_2_clean = np.argmax(test_model_X_2.predict(x_test_data), axis=1)\n",
        "accuracy_2_percent_clean = np.mean(np.equal(predicted_labels_2_clean, y_test_data)) * 100\n",
        "print('Model with 2% accuracy drop, clean data accuracy:', accuracy_2_percent_clean)\n",
        "\n",
        "# Evaluating attack success rate for model with 2% drop\n",
        "predicted_labels_2_poisoned = np.argmax(test_model_X_2.predict(x_test_poisoned_data), axis=1)\n",
        "success_rate_2_percent = np.mean(np.equal(predicted_labels_2_poisoned, y_test_poisnoed_data)) * 100\n",
        "print('Model with 2% accuracy drop, attack success rate:', success_rate_2_percent)\n",
        "\n",
        "# Evaluating accuracy for model with 4% drop\n",
        "predicted_labels_4_clean = np.argmax(test_model_X_4.predict(x_test_data), axis=1)\n",
        "accuracy_4_percent_clean = np.mean(np.equal(predicted_labels_4_clean, y_test_data)) * 100\n",
        "print('Model with 4% accuracy drop, clean data accuracy:', accuracy_4_percent_clean)\n",
        "\n",
        "# Evaluating attack success rate for model with 4% drop\n",
        "predicted_labels_4_poisoned = np.argmax(test_model_X_4.predict(x_test_poisoned_data), axis=1)\n",
        "success_rate_4_percent = np.mean(np.equal(predicted_labels_4_poisoned, y_test_poisnoed_data)) * 100\n",
        "print('Model with 4% accuracy drop, attack success rate:', success_rate_4_percent)\n",
        "\n",
        "# Evaluating accuracy for model with 10% drop\n",
        "predicted_labels_10_clean = np.argmax(test_model_X_10.predict(x_test_data), axis=1)\n",
        "accuracy_10_percent_clean = np.mean(np.equal(predicted_labels_10_clean, y_test_data)) * 100\n",
        "print('Model with 10% accuracy drop, clean data accuracy:', accuracy_10_percent_clean)\n",
        "\n",
        "# Evaluating attack success rate for model with 10% drop\n",
        "predicted_labels_10_poisoned = np.argmax(test_model_X_10.predict(x_test_poisoned_data), axis=1)\n",
        "success_rate_10_percent = np.mean(np.equal(predicted_labels_10_poisoned, y_test_poisnoed_data)) * 100\n",
        "print('Model with 10% accuracy drop, attack success rate:', success_rate_10_percent)"
      ],
      "metadata": {
        "colab": {
          "base_uri": "https://localhost:8080/"
        },
        "id": "nPtPgSwHp-KG",
        "outputId": "f005c77a-0bc9-45e4-bfa0-fecaf183f34e"
      },
      "execution_count": 30,
      "outputs": [
        {
          "output_type": "stream",
          "name": "stdout",
          "text": [
            "401/401 [==============================] - 5s 12ms/step\n",
            "Model with 2% accuracy drop, clean data accuracy: 95.90023382696803\n",
            "401/401 [==============================] - 4s 11ms/step\n",
            "Model with 2% accuracy drop, attack success rate: 100.0\n",
            "401/401 [==============================] - 4s 10ms/step\n",
            "Model with 4% accuracy drop, clean data accuracy: 92.29150428682775\n",
            "401/401 [==============================] - 4s 10ms/step\n",
            "Model with 4% accuracy drop, attack success rate: 99.98441153546376\n",
            "401/401 [==============================] - 4s 11ms/step\n",
            "Model with 10% accuracy drop, clean data accuracy: 84.54403741231489\n",
            "401/401 [==============================] - 4s 10ms/step\n",
            "Model with 10% accuracy drop, attack success rate: 77.20966484801247\n"
          ]
        }
      ]
    },
    {
      "cell_type": "code",
      "source": [
        "test_acc = [accuracy_2_percent_clean, accuracy_4_percent_clean, accuracy_10_percent_clean]\n",
        "attack_rate = [success_rate_2_percent, success_rate_4_percent, success_rate_10_percent]\n",
        "data = {\n",
        "    \"text_acc\": test_acc,\n",
        "    \"attack_rate\": attack_rate,\n",
        "    \"model\": [\"repaired_2%\", \"repaired_4%\", \"repaired_10%\"]\n",
        "}\n",
        "df = pd.DataFrame(data)\n",
        "df.set_index('model')"
      ],
      "metadata": {
        "colab": {
          "base_uri": "https://localhost:8080/",
          "height": 175
        },
        "id": "nHKEc3wSqBKj",
        "outputId": "0d09c99c-6c6c-457c-dc64-69977ee7ea40"
      },
      "execution_count": 31,
      "outputs": [
        {
          "output_type": "execute_result",
          "data": {
            "text/plain": [
              "               text_acc  attack_rate\n",
              "model                               \n",
              "repaired_2%   95.900234   100.000000\n",
              "repaired_4%   92.291504    99.984412\n",
              "repaired_10%  84.544037    77.209665"
            ],
            "text/html": [
              "\n",
              "  <div id=\"df-b36bad1a-c14b-4344-a076-ce0a5a9d57fd\" class=\"colab-df-container\">\n",
              "    <div>\n",
              "<style scoped>\n",
              "    .dataframe tbody tr th:only-of-type {\n",
              "        vertical-align: middle;\n",
              "    }\n",
              "\n",
              "    .dataframe tbody tr th {\n",
              "        vertical-align: top;\n",
              "    }\n",
              "\n",
              "    .dataframe thead th {\n",
              "        text-align: right;\n",
              "    }\n",
              "</style>\n",
              "<table border=\"1\" class=\"dataframe\">\n",
              "  <thead>\n",
              "    <tr style=\"text-align: right;\">\n",
              "      <th></th>\n",
              "      <th>text_acc</th>\n",
              "      <th>attack_rate</th>\n",
              "    </tr>\n",
              "    <tr>\n",
              "      <th>model</th>\n",
              "      <th></th>\n",
              "      <th></th>\n",
              "    </tr>\n",
              "  </thead>\n",
              "  <tbody>\n",
              "    <tr>\n",
              "      <th>repaired_2%</th>\n",
              "      <td>95.900234</td>\n",
              "      <td>100.000000</td>\n",
              "    </tr>\n",
              "    <tr>\n",
              "      <th>repaired_4%</th>\n",
              "      <td>92.291504</td>\n",
              "      <td>99.984412</td>\n",
              "    </tr>\n",
              "    <tr>\n",
              "      <th>repaired_10%</th>\n",
              "      <td>84.544037</td>\n",
              "      <td>77.209665</td>\n",
              "    </tr>\n",
              "  </tbody>\n",
              "</table>\n",
              "</div>\n",
              "    <div class=\"colab-df-buttons\">\n",
              "\n",
              "  <div class=\"colab-df-container\">\n",
              "    <button class=\"colab-df-convert\" onclick=\"convertToInteractive('df-b36bad1a-c14b-4344-a076-ce0a5a9d57fd')\"\n",
              "            title=\"Convert this dataframe to an interactive table.\"\n",
              "            style=\"display:none;\">\n",
              "\n",
              "  <svg xmlns=\"http://www.w3.org/2000/svg\" height=\"24px\" viewBox=\"0 -960 960 960\">\n",
              "    <path d=\"M120-120v-720h720v720H120Zm60-500h600v-160H180v160Zm220 220h160v-160H400v160Zm0 220h160v-160H400v160ZM180-400h160v-160H180v160Zm440 0h160v-160H620v160ZM180-180h160v-160H180v160Zm440 0h160v-160H620v160Z\"/>\n",
              "  </svg>\n",
              "    </button>\n",
              "\n",
              "  <style>\n",
              "    .colab-df-container {\n",
              "      display:flex;\n",
              "      gap: 12px;\n",
              "    }\n",
              "\n",
              "    .colab-df-convert {\n",
              "      background-color: #E8F0FE;\n",
              "      border: none;\n",
              "      border-radius: 50%;\n",
              "      cursor: pointer;\n",
              "      display: none;\n",
              "      fill: #1967D2;\n",
              "      height: 32px;\n",
              "      padding: 0 0 0 0;\n",
              "      width: 32px;\n",
              "    }\n",
              "\n",
              "    .colab-df-convert:hover {\n",
              "      background-color: #E2EBFA;\n",
              "      box-shadow: 0px 1px 2px rgba(60, 64, 67, 0.3), 0px 1px 3px 1px rgba(60, 64, 67, 0.15);\n",
              "      fill: #174EA6;\n",
              "    }\n",
              "\n",
              "    .colab-df-buttons div {\n",
              "      margin-bottom: 4px;\n",
              "    }\n",
              "\n",
              "    [theme=dark] .colab-df-convert {\n",
              "      background-color: #3B4455;\n",
              "      fill: #D2E3FC;\n",
              "    }\n",
              "\n",
              "    [theme=dark] .colab-df-convert:hover {\n",
              "      background-color: #434B5C;\n",
              "      box-shadow: 0px 1px 3px 1px rgba(0, 0, 0, 0.15);\n",
              "      filter: drop-shadow(0px 1px 2px rgba(0, 0, 0, 0.3));\n",
              "      fill: #FFFFFF;\n",
              "    }\n",
              "  </style>\n",
              "\n",
              "    <script>\n",
              "      const buttonEl =\n",
              "        document.querySelector('#df-b36bad1a-c14b-4344-a076-ce0a5a9d57fd button.colab-df-convert');\n",
              "      buttonEl.style.display =\n",
              "        google.colab.kernel.accessAllowed ? 'block' : 'none';\n",
              "\n",
              "      async function convertToInteractive(key) {\n",
              "        const element = document.querySelector('#df-b36bad1a-c14b-4344-a076-ce0a5a9d57fd');\n",
              "        const dataTable =\n",
              "          await google.colab.kernel.invokeFunction('convertToInteractive',\n",
              "                                                    [key], {});\n",
              "        if (!dataTable) return;\n",
              "\n",
              "        const docLinkHtml = 'Like what you see? Visit the ' +\n",
              "          '<a target=\"_blank\" href=https://colab.research.google.com/notebooks/data_table.ipynb>data table notebook</a>'\n",
              "          + ' to learn more about interactive tables.';\n",
              "        element.innerHTML = '';\n",
              "        dataTable['output_type'] = 'display_data';\n",
              "        await google.colab.output.renderOutput(dataTable, element);\n",
              "        const docLink = document.createElement('div');\n",
              "        docLink.innerHTML = docLinkHtml;\n",
              "        element.appendChild(docLink);\n",
              "      }\n",
              "    </script>\n",
              "  </div>\n",
              "\n",
              "\n",
              "<div id=\"df-725c7d42-cc84-4db5-89f5-afeac93989ed\">\n",
              "  <button class=\"colab-df-quickchart\" onclick=\"quickchart('df-725c7d42-cc84-4db5-89f5-afeac93989ed')\"\n",
              "            title=\"Suggest charts\"\n",
              "            style=\"display:none;\">\n",
              "\n",
              "<svg xmlns=\"http://www.w3.org/2000/svg\" height=\"24px\"viewBox=\"0 0 24 24\"\n",
              "     width=\"24px\">\n",
              "    <g>\n",
              "        <path d=\"M19 3H5c-1.1 0-2 .9-2 2v14c0 1.1.9 2 2 2h14c1.1 0 2-.9 2-2V5c0-1.1-.9-2-2-2zM9 17H7v-7h2v7zm4 0h-2V7h2v10zm4 0h-2v-4h2v4z\"/>\n",
              "    </g>\n",
              "</svg>\n",
              "  </button>\n",
              "\n",
              "<style>\n",
              "  .colab-df-quickchart {\n",
              "      --bg-color: #E8F0FE;\n",
              "      --fill-color: #1967D2;\n",
              "      --hover-bg-color: #E2EBFA;\n",
              "      --hover-fill-color: #174EA6;\n",
              "      --disabled-fill-color: #AAA;\n",
              "      --disabled-bg-color: #DDD;\n",
              "  }\n",
              "\n",
              "  [theme=dark] .colab-df-quickchart {\n",
              "      --bg-color: #3B4455;\n",
              "      --fill-color: #D2E3FC;\n",
              "      --hover-bg-color: #434B5C;\n",
              "      --hover-fill-color: #FFFFFF;\n",
              "      --disabled-bg-color: #3B4455;\n",
              "      --disabled-fill-color: #666;\n",
              "  }\n",
              "\n",
              "  .colab-df-quickchart {\n",
              "    background-color: var(--bg-color);\n",
              "    border: none;\n",
              "    border-radius: 50%;\n",
              "    cursor: pointer;\n",
              "    display: none;\n",
              "    fill: var(--fill-color);\n",
              "    height: 32px;\n",
              "    padding: 0;\n",
              "    width: 32px;\n",
              "  }\n",
              "\n",
              "  .colab-df-quickchart:hover {\n",
              "    background-color: var(--hover-bg-color);\n",
              "    box-shadow: 0 1px 2px rgba(60, 64, 67, 0.3), 0 1px 3px 1px rgba(60, 64, 67, 0.15);\n",
              "    fill: var(--button-hover-fill-color);\n",
              "  }\n",
              "\n",
              "  .colab-df-quickchart-complete:disabled,\n",
              "  .colab-df-quickchart-complete:disabled:hover {\n",
              "    background-color: var(--disabled-bg-color);\n",
              "    fill: var(--disabled-fill-color);\n",
              "    box-shadow: none;\n",
              "  }\n",
              "\n",
              "  .colab-df-spinner {\n",
              "    border: 2px solid var(--fill-color);\n",
              "    border-color: transparent;\n",
              "    border-bottom-color: var(--fill-color);\n",
              "    animation:\n",
              "      spin 1s steps(1) infinite;\n",
              "  }\n",
              "\n",
              "  @keyframes spin {\n",
              "    0% {\n",
              "      border-color: transparent;\n",
              "      border-bottom-color: var(--fill-color);\n",
              "      border-left-color: var(--fill-color);\n",
              "    }\n",
              "    20% {\n",
              "      border-color: transparent;\n",
              "      border-left-color: var(--fill-color);\n",
              "      border-top-color: var(--fill-color);\n",
              "    }\n",
              "    30% {\n",
              "      border-color: transparent;\n",
              "      border-left-color: var(--fill-color);\n",
              "      border-top-color: var(--fill-color);\n",
              "      border-right-color: var(--fill-color);\n",
              "    }\n",
              "    40% {\n",
              "      border-color: transparent;\n",
              "      border-right-color: var(--fill-color);\n",
              "      border-top-color: var(--fill-color);\n",
              "    }\n",
              "    60% {\n",
              "      border-color: transparent;\n",
              "      border-right-color: var(--fill-color);\n",
              "    }\n",
              "    80% {\n",
              "      border-color: transparent;\n",
              "      border-right-color: var(--fill-color);\n",
              "      border-bottom-color: var(--fill-color);\n",
              "    }\n",
              "    90% {\n",
              "      border-color: transparent;\n",
              "      border-bottom-color: var(--fill-color);\n",
              "    }\n",
              "  }\n",
              "</style>\n",
              "\n",
              "  <script>\n",
              "    async function quickchart(key) {\n",
              "      const quickchartButtonEl =\n",
              "        document.querySelector('#' + key + ' button');\n",
              "      quickchartButtonEl.disabled = true;  // To prevent multiple clicks.\n",
              "      quickchartButtonEl.classList.add('colab-df-spinner');\n",
              "      try {\n",
              "        const charts = await google.colab.kernel.invokeFunction(\n",
              "            'suggestCharts', [key], {});\n",
              "      } catch (error) {\n",
              "        console.error('Error during call to suggestCharts:', error);\n",
              "      }\n",
              "      quickchartButtonEl.classList.remove('colab-df-spinner');\n",
              "      quickchartButtonEl.classList.add('colab-df-quickchart-complete');\n",
              "    }\n",
              "    (() => {\n",
              "      let quickchartButtonEl =\n",
              "        document.querySelector('#df-725c7d42-cc84-4db5-89f5-afeac93989ed button');\n",
              "      quickchartButtonEl.style.display =\n",
              "        google.colab.kernel.accessAllowed ? 'block' : 'none';\n",
              "    })();\n",
              "  </script>\n",
              "</div>\n",
              "    </div>\n",
              "  </div>\n"
            ]
          },
          "metadata": {},
          "execution_count": 31
        }
      ]
    },
    {
      "cell_type": "code",
      "source": [
        "opacity = 0.4\n",
        "bar_width = 0.35\n",
        "\n",
        "plt.xlabel('% drops model')\n",
        "plt.ylabel('Rate')\n",
        "\n",
        "plt.xticks(range(len(test_acc)),('2%', '4%', '10%'))\n",
        "bar1 = plt.bar(np.arange(len(test_acc)) + bar_width, test_acc, bar_width, align='center', alpha=opacity, color='b', label='accuracy')\n",
        "bar2 = plt.bar(range(len(attack_rate)), attack_rate, bar_width, align='center', alpha=opacity, color='r', label='attack rate')\n",
        "\n",
        "for rect in bar1 + bar2:\n",
        "    height = rect.get_height()\n",
        "    plt.text(rect.get_x() + rect.get_width() / 2.0, height, f'{height:.02f}', ha='center', va='bottom')\n",
        "\n",
        "plt.legend(bbox_to_anchor=(1.4, 1))\n",
        "plt.tight_layout()\n",
        "plt.title('performance of repaired model')\n",
        "sns.despine()\n",
        "plt.show()"
      ],
      "metadata": {
        "colab": {
          "base_uri": "https://localhost:8080/",
          "height": 509
        },
        "id": "nC1NLPKGqQgG",
        "outputId": "41d0f5b6-ac39-45c8-c1b3-a0530bc264cf"
      },
      "execution_count": 32,
      "outputs": [
        {
          "output_type": "display_data",
          "data": {
            "text/plain": [
              "<Figure size 640x480 with 1 Axes>"
            ],
            "image/png": "[encoded data removed]"
          },
          "metadata": {}
        }
      ]
    },
    {
      "cell_type": "code",
      "source": [
        "# Predictions and accuracy for the combined model with 2% drop on clean data\n",
        "predictions_clean_2_percent = G_model_X_2.predict(x_test_data)\n",
        "accuracy_clean_combined_2_percent = np.mean(np.equal(predictions_clean_2_percent, y_test_data)) * 100\n",
        "print('Accuracy for combined model with 2% drop on clean data:', accuracy_clean_combined_2_percent)\n",
        "\n",
        "# Predictions and ASR for the combined model with 2% drop on poisoned data\n",
        "predictions_poisoned_2_percent = G_model_X_2.predict(x_test_poisoned_data)\n",
        "asr_combined_2_percent = np.mean(np.equal(predictions_poisoned_2_percent, y_test_poisnoed_data)) * 100\n",
        "print('ASR for combined model with 2% drop on poisoned data:', asr_combined_2_percent)\n",
        "\n",
        "# Predictions and accuracy for the combined model with 4% drop on clean data\n",
        "predictions_clean_4_percent = G_model_X_4.predict(x_test_data)\n",
        "accuracy_clean_combined_4_percent = np.mean(np.equal(predictions_clean_4_percent, y_test_data)) * 100\n",
        "print('Accuracy for combined model with 4% drop on clean data:', accuracy_clean_combined_4_percent)\n",
        "\n",
        "# Predictions and ASR for the combined model with 4% drop on poisoned data\n",
        "predictions_poisoned_4_percent = G_model_X_4.predict(x_test_poisoned_data)\n",
        "asr_combined_4_percent = np.mean(np.equal(predictions_poisoned_4_percent, y_test_poisnoed_data)) * 100\n",
        "print('ASR for combined model with 4% drop on poisoned data:', asr_combined_4_percent)\n",
        "\n",
        "# Predictions and accuracy for the combined model with 10% drop on clean data\n",
        "predictions_clean_10_percent = G_model_X_10.predict(x_test_data)\n",
        "accuracy_clean_combined_10_percent = np.mean(np.equal(predictions_clean_10_percent, y_test_data)) * 100\n",
        "print('Accuracy for combined model with 10% drop on clean data:', accuracy_clean_combined_10_percent)\n",
        "\n",
        "# Predictions and ASR for the combined model with 10% drop on poisoned data\n",
        "predictions_poisoned_10_percent = G_model_X_10.predict(x_test_poisoned_data)\n",
        "asr_combined_10_percent = np.mean(np.equal(predictions_poisoned_10_percent, y_test_poisnoed_data)) * 100\n",
        "print('ASR for combined model with 10% drop on poisoned data:', asr_combined_10_percent)"
      ],
      "metadata": {
        "colab": {
          "base_uri": "https://localhost:8080/"
        },
        "id": "VGxKN-P6qSoc",
        "outputId": "cbb8eba2-e25b-4f36-9d6c-93ea44287da9"
      },
      "execution_count": 34,
      "outputs": [
        {
          "output_type": "stream",
          "name": "stdout",
          "text": [
            "Accuracy for combined model with 2% drop on clean data: 95.74434918160561\n",
            "ASR for combined model with 2% drop on poisoned data: 100.0\n",
            "Accuracy for combined model with 4% drop on clean data: 92.1278254091972\n",
            "ASR for combined model with 4% drop on poisoned data: 99.98441153546376\n",
            "Accuracy for combined model with 10% drop on clean data: 84.3335931410756\n",
            "ASR for combined model with 10% drop on poisoned data: 77.20966484801247\n"
          ]
        }
      ]
    },
    {
      "cell_type": "code",
      "source": [
        "G_test_acc = [accuracy_clean_combined_2_percent, accuracy_clean_combined_2_percent, accuracy_clean_combined_10_percent]\n",
        "G_attack_rate = [asr_combined_2_percent , asr_combined_4_percent, asr_combined_10_percent]\n",
        "G_data = {\n",
        "    \"G_text_acc\": G_test_acc,\n",
        "    \"G_attack_rate\": G_attack_rate,\n",
        "    \"G_model\": [\"G_2%\", \"G_4%\", \"G_10%\"]\n",
        "}\n",
        "G_df = pd.DataFrame(G_data)\n",
        "G_df.set_index('G_model')"
      ],
      "metadata": {
        "colab": {
          "base_uri": "https://localhost:8080/",
          "height": 175
        },
        "id": "BFFdBqb3qVF6",
        "outputId": "82787eff-65b3-4f31-ecac-637b8eb8dfdc"
      },
      "execution_count": 35,
      "outputs": [
        {
          "output_type": "execute_result",
          "data": {
            "text/plain": [
              "         G_text_acc  G_attack_rate\n",
              "G_model                           \n",
              "G_2%      95.744349     100.000000\n",
              "G_4%      95.744349      99.984412\n",
              "G_10%     84.333593      77.209665"
            ],
            "text/html": [
              "\n",
              "  <div id=\"df-d41eef88-63f4-4a69-9dcd-2b33e63e7559\" class=\"colab-df-container\">\n",
              "    <div>\n",
              "<style scoped>\n",
              "    .dataframe tbody tr th:only-of-type {\n",
              "        vertical-align: middle;\n",
              "    }\n",
              "\n",
              "    .dataframe tbody tr th {\n",
              "        vertical-align: top;\n",
              "    }\n",
              "\n",
              "    .dataframe thead th {\n",
              "        text-align: right;\n",
              "    }\n",
              "</style>\n",
              "<table border=\"1\" class=\"dataframe\">\n",
              "  <thead>\n",
              "    <tr style=\"text-align: right;\">\n",
              "      <th></th>\n",
              "      <th>G_text_acc</th>\n",
              "      <th>G_attack_rate</th>\n",
              "    </tr>\n",
              "    <tr>\n",
              "      <th>G_model</th>\n",
              "      <th></th>\n",
              "      <th></th>\n",
              "    </tr>\n",
              "  </thead>\n",
              "  <tbody>\n",
              "    <tr>\n",
              "      <th>G_2%</th>\n",
              "      <td>95.744349</td>\n",
              "      <td>100.000000</td>\n",
              "    </tr>\n",
              "    <tr>\n",
              "      <th>G_4%</th>\n",
              "      <td>95.744349</td>\n",
              "      <td>99.984412</td>\n",
              "    </tr>\n",
              "    <tr>\n",
              "      <th>G_10%</th>\n",
              "      <td>84.333593</td>\n",
              "      <td>77.209665</td>\n",
              "    </tr>\n",
              "  </tbody>\n",
              "</table>\n",
              "</div>\n",
              "    <div class=\"colab-df-buttons\">\n",
              "\n",
              "  <div class=\"colab-df-container\">\n",
              "    <button class=\"colab-df-convert\" onclick=\"convertToInteractive('df-d41eef88-63f4-4a69-9dcd-2b33e63e7559')\"\n",
              "            title=\"Convert this dataframe to an interactive table.\"\n",
              "            style=\"display:none;\">\n",
              "\n",
              "  <svg xmlns=\"http://www.w3.org/2000/svg\" height=\"24px\" viewBox=\"0 -960 960 960\">\n",
              "    <path d=\"M120-120v-720h720v720H120Zm60-500h600v-160H180v160Zm220 220h160v-160H400v160Zm0 220h160v-160H400v160ZM180-400h160v-160H180v160Zm440 0h160v-160H620v160ZM180-180h160v-160H180v160Zm440 0h160v-160H620v160Z\"/>\n",
              "  </svg>\n",
              "    </button>\n",
              "\n",
              "  <style>\n",
              "    .colab-df-container {\n",
              "      display:flex;\n",
              "      gap: 12px;\n",
              "    }\n",
              "\n",
              "    .colab-df-convert {\n",
              "      background-color: #E8F0FE;\n",
              "      border: none;\n",
              "      border-radius: 50%;\n",
              "      cursor: pointer;\n",
              "      display: none;\n",
              "      fill: #1967D2;\n",
              "      height: 32px;\n",
              "      padding: 0 0 0 0;\n",
              "      width: 32px;\n",
              "    }\n",
              "\n",
              "    .colab-df-convert:hover {\n",
              "      background-color: #E2EBFA;\n",
              "      box-shadow: 0px 1px 2px rgba(60, 64, 67, 0.3), 0px 1px 3px 1px rgba(60, 64, 67, 0.15);\n",
              "      fill: #174EA6;\n",
              "    }\n",
              "\n",
              "    .colab-df-buttons div {\n",
              "      margin-bottom: 4px;\n",
              "    }\n",
              "\n",
              "    [theme=dark] .colab-df-convert {\n",
              "      background-color: #3B4455;\n",
              "      fill: #D2E3FC;\n",
              "    }\n",
              "\n",
              "    [theme=dark] .colab-df-convert:hover {\n",
              "      background-color: #434B5C;\n",
              "      box-shadow: 0px 1px 3px 1px rgba(0, 0, 0, 0.15);\n",
              "      filter: drop-shadow(0px 1px 2px rgba(0, 0, 0, 0.3));\n",
              "      fill: #FFFFFF;\n",
              "    }\n",
              "  </style>\n",
              "\n",
              "    <script>\n",
              "      const buttonEl =\n",
              "        document.querySelector('#df-d41eef88-63f4-4a69-9dcd-2b33e63e7559 button.colab-df-convert');\n",
              "      buttonEl.style.display =\n",
              "        google.colab.kernel.accessAllowed ? 'block' : 'none';\n",
              "\n",
              "      async function convertToInteractive(key) {\n",
              "        const element = document.querySelector('#df-d41eef88-63f4-4a69-9dcd-2b33e63e7559');\n",
              "        const dataTable =\n",
              "          await google.colab.kernel.invokeFunction('convertToInteractive',\n",
              "                                                    [key], {});\n",
              "        if (!dataTable) return;\n",
              "\n",
              "        const docLinkHtml = 'Like what you see? Visit the ' +\n",
              "          '<a target=\"_blank\" href=https://colab.research.google.com/notebooks/data_table.ipynb>data table notebook</a>'\n",
              "          + ' to learn more about interactive tables.';\n",
              "        element.innerHTML = '';\n",
              "        dataTable['output_type'] = 'display_data';\n",
              "        await google.colab.output.renderOutput(dataTable, element);\n",
              "        const docLink = document.createElement('div');\n",
              "        docLink.innerHTML = docLinkHtml;\n",
              "        element.appendChild(docLink);\n",
              "      }\n",
              "    </script>\n",
              "  </div>\n",
              "\n",
              "\n",
              "<div id=\"df-c8bc5dec-556c-473c-8377-263901d4e0c3\">\n",
              "  <button class=\"colab-df-quickchart\" onclick=\"quickchart('df-c8bc5dec-556c-473c-8377-263901d4e0c3')\"\n",
              "            title=\"Suggest charts\"\n",
              "            style=\"display:none;\">\n",
              "\n",
              "<svg xmlns=\"http://www.w3.org/2000/svg\" height=\"24px\"viewBox=\"0 0 24 24\"\n",
              "     width=\"24px\">\n",
              "    <g>\n",
              "        <path d=\"M19 3H5c-1.1 0-2 .9-2 2v14c0 1.1.9 2 2 2h14c1.1 0 2-.9 2-2V5c0-1.1-.9-2-2-2zM9 17H7v-7h2v7zm4 0h-2V7h2v10zm4 0h-2v-4h2v4z\"/>\n",
              "    </g>\n",
              "</svg>\n",
              "  </button>\n",
              "\n",
              "<style>\n",
              "  .colab-df-quickchart {\n",
              "      --bg-color: #E8F0FE;\n",
              "      --fill-color: #1967D2;\n",
              "      --hover-bg-color: #E2EBFA;\n",
              "      --hover-fill-color: #174EA6;\n",
              "      --disabled-fill-color: #AAA;\n",
              "      --disabled-bg-color: #DDD;\n",
              "  }\n",
              "\n",
              "  [theme=dark] .colab-df-quickchart {\n",
              "      --bg-color: #3B4455;\n",
              "      --fill-color: #D2E3FC;\n",
              "      --hover-bg-color: #434B5C;\n",
              "      --hover-fill-color: #FFFFFF;\n",
              "      --disabled-bg-color: #3B4455;\n",
              "      --disabled-fill-color: #666;\n",
              "  }\n",
              "\n",
              "  .colab-df-quickchart {\n",
              "    background-color: var(--bg-color);\n",
              "    border: none;\n",
              "    border-radius: 50%;\n",
              "    cursor: pointer;\n",
              "    display: none;\n",
              "    fill: var(--fill-color);\n",
              "    height: 32px;\n",
              "    padding: 0;\n",
              "    width: 32px;\n",
              "  }\n",
              "\n",
              "  .colab-df-quickchart:hover {\n",
              "    background-color: var(--hover-bg-color);\n",
              "    box-shadow: 0 1px 2px rgba(60, 64, 67, 0.3), 0 1px 3px 1px rgba(60, 64, 67, 0.15);\n",
              "    fill: var(--button-hover-fill-color);\n",
              "  }\n",
              "\n",
              "  .colab-df-quickchart-complete:disabled,\n",
              "  .colab-df-quickchart-complete:disabled:hover {\n",
              "    background-color: var(--disabled-bg-color);\n",
              "    fill: var(--disabled-fill-color);\n",
              "    box-shadow: none;\n",
              "  }\n",
              "\n",
              "  .colab-df-spinner {\n",
              "    border: 2px solid var(--fill-color);\n",
              "    border-color: transparent;\n",
              "    border-bottom-color: var(--fill-color);\n",
              "    animation:\n",
              "      spin 1s steps(1) infinite;\n",
              "  }\n",
              "\n",
              "  @keyframes spin {\n",
              "    0% {\n",
              "      border-color: transparent;\n",
              "      border-bottom-color: var(--fill-color);\n",
              "      border-left-color: var(--fill-color);\n",
              "    }\n",
              "    20% {\n",
              "      border-color: transparent;\n",
              "      border-left-color: var(--fill-color);\n",
              "      border-top-color: var(--fill-color);\n",
              "    }\n",
              "    30% {\n",
              "      border-color: transparent;\n",
              "      border-left-color: var(--fill-color);\n",
              "      border-top-color: var(--fill-color);\n",
              "      border-right-color: var(--fill-color);\n",
              "    }\n",
              "    40% {\n",
              "      border-color: transparent;\n",
              "      border-right-color: var(--fill-color);\n",
              "      border-top-color: var(--fill-color);\n",
              "    }\n",
              "    60% {\n",
              "      border-color: transparent;\n",
              "      border-right-color: var(--fill-color);\n",
              "    }\n",
              "    80% {\n",
              "      border-color: transparent;\n",
              "      border-right-color: var(--fill-color);\n",
              "      border-bottom-color: var(--fill-color);\n",
              "    }\n",
              "    90% {\n",
              "      border-color: transparent;\n",
              "      border-bottom-color: var(--fill-color);\n",
              "    }\n",
              "  }\n",
              "</style>\n",
              "\n",
              "  <script>\n",
              "    async function quickchart(key) {\n",
              "      const quickchartButtonEl =\n",
              "        document.querySelector('#' + key + ' button');\n",
              "      quickchartButtonEl.disabled = true;  // To prevent multiple clicks.\n",
              "      quickchartButtonEl.classList.add('colab-df-spinner');\n",
              "      try {\n",
              "        const charts = await google.colab.kernel.invokeFunction(\n",
              "            'suggestCharts', [key], {});\n",
              "      } catch (error) {\n",
              "        console.error('Error during call to suggestCharts:', error);\n",
              "      }\n",
              "      quickchartButtonEl.classList.remove('colab-df-spinner');\n",
              "      quickchartButtonEl.classList.add('colab-df-quickchart-complete');\n",
              "    }\n",
              "    (() => {\n",
              "      let quickchartButtonEl =\n",
              "        document.querySelector('#df-c8bc5dec-556c-473c-8377-263901d4e0c3 button');\n",
              "      quickchartButtonEl.style.display =\n",
              "        google.colab.kernel.accessAllowed ? 'block' : 'none';\n",
              "    })();\n",
              "  </script>\n",
              "</div>\n",
              "    </div>\n",
              "  </div>\n"
            ]
          },
          "metadata": {},
          "execution_count": 35
        }
      ]
    },
    {
      "cell_type": "code",
      "source": [
        "opacity = 0.5\n",
        "bar_width = 0.3\n",
        "\n",
        "plt.xlabel('combined % drops model')\n",
        "plt.ylabel('Rate')\n",
        "\n",
        "plt.xticks(range(len(G_test_acc)),('2%', '4%', '10%'))\n",
        "bar1 = plt.bar(np.arange(len(G_test_acc)) + bar_width, G_test_acc, bar_width, align='center', alpha=opacity, color='b', label='accuracy')\n",
        "bar2 = plt.bar(range(len(G_attack_rate)),G_attack_rate, bar_width, align='center', alpha=opacity, color='r', label='attack rate')\n",
        "\n",
        "for rect in bar1 + bar2:\n",
        "    height = rect.get_height()\n",
        "    plt.text(rect.get_x() + rect.get_width() / 2.0, height, f'{height:.02f}', ha='center', va='bottom')\n",
        "\n",
        "plt.legend(bbox_to_anchor=(1.4, 1))\n",
        "plt.tight_layout()\n",
        "plt.title('performance of goodNet model')\n",
        "sns.despine()\n",
        "plt.show()"
      ],
      "metadata": {
        "colab": {
          "base_uri": "https://localhost:8080/",
          "height": 509
        },
        "id": "BEhEpgi5r516",
        "outputId": "89f6fbe0-9615-45f8-ccc3-b426b13ea2e7"
      },
      "execution_count": 36,
      "outputs": [
        {
          "output_type": "display_data",
          "data": {
            "text/plain": [
              "<Figure size 640x480 with 1 Axes>"
            ],
            "image/png": "[encoded data removed]"
          },
          "metadata": {}
        }
      ]
    },
    {
      "cell_type": "code",
      "source": [],
      "metadata": {
        "id": "8S69WJw9r8pn"
      },
      "execution_count": null,
      "outputs": []
    }
  ]
}